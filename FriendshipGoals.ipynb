{
  "cells": [
    {
      "cell_type": "code",
      "execution_count": null,
      "metadata": {
        "colab": {
          "base_uri": "https://localhost:8080/"
        },
        "id": "0qrYTQnz7QQy",
        "outputId": "0e37d096-c983-47e4-fdde-a8d9b397a9f8"
      },
      "outputs": [
        {
          "name": "stdout",
          "output_type": "stream",
          "text": [
            "Mounted at /content/drive\n"
          ]
        }
      ],
      "source": [
        "from google.colab import drive\n",
        "drive.mount('/content/drive')"
      ]
    },
    {
      "cell_type": "code",
      "execution_count": null,
      "metadata": {
        "colab": {
          "base_uri": "https://localhost:8080/"
        },
        "id": "fpbGts-P7T0X",
        "outputId": "0880014f-1c95-4ec9-9ad5-bfa265837e7c"
      },
      "outputs": [
        {
          "name": "stdout",
          "output_type": "stream",
          "text": [
            "test_out  train  validate\n"
          ]
        }
      ],
      "source": [
        "!ls /content/drive/My\\ Drive/Kaggle/data"
      ]
    },
    {
      "cell_type": "code",
      "execution_count": null,
      "metadata": {
        "colab": {
          "base_uri": "https://localhost:8080/"
        },
        "id": "Vzt-K1OF7lq9",
        "outputId": "4a431eac-8d9c-45a4-b6d7-2bd12ce9f6c7"
      },
      "outputs": [
        {
          "name": "stdout",
          "output_type": "stream",
          "text": [
            "Adults\tTeenagers  Toddlers\n",
            "Adults\tTeenagers  Toddlers\n",
            "test  Test.csv\n"
          ]
        }
      ],
      "source": [
        "!ls /content/drive/My\\ Drive/Kaggle/data/train\n",
        "!ls /content/drive/My\\ Drive/Kaggle/data/validate\n",
        "!ls /content/drive/My\\ Drive/Kaggle/data/test_out"
      ]
    },
    {
      "cell_type": "code",
      "execution_count": null,
      "metadata": {
        "colab": {
          "base_uri": "https://localhost:8080/"
        },
        "id": "7Gj_ruqt75Eo",
        "outputId": "b8bdbbeb-15fc-4205-f5e5-f0906789c9f5"
      },
      "outputs": [
        {
          "name": "stdout",
          "output_type": "stream",
          "text": [
            "00000516.jpg\n",
            "00000530.jpg\n",
            "00000537.jpg\n",
            "00000538.jpg\n",
            "00000543.jpg\n",
            "00000546.jpg\n",
            "00000548.jpg\n",
            "00000549.jpg\n",
            "00000550.jpg\n",
            "00000551.jpg\n",
            "00000553.jpg\n",
            "00000557.jpg\n",
            "00000559.jpg\n",
            "00000562.jpg\n",
            "00000568.jpg\n",
            "00000570.jpg\n",
            "00000577.jpg\n",
            "00000580.jpg\n",
            "00000581.jpg\n",
            "00000587.jpg\n",
            "00000590.jpg\n",
            "00000595.jpg\n",
            "00000597.jpg\n",
            "00000598.jpg\n",
            "00000600.jpg\n",
            "00000601.jpg\n",
            "0010.jpg\n",
            "0011.jpg\n",
            "0012.jpg\n",
            "0013.jpg\n",
            "0014.jpg\n",
            "0015.jpg\n",
            "0016.jpg\n",
            "0017.jpg\n",
            "0018.jpg\n",
            "0019.jpg\n",
            "001.jpg\n",
            "0020.jpg\n",
            "0021.jpg\n",
            "0022.jpg\n",
            "0023.jpg\n",
            "0024.jpg\n",
            "0025.jpg\n",
            "0026.jpg\n",
            "0027.jpg\n",
            "0028.jpg\n",
            "0029.jpg\n",
            "002.jpg\n",
            "0030.jpg\n",
            "0031.jpg\n",
            "0032.jpg\n",
            "0033.jpg\n",
            "0034.jpg\n",
            "0035.jpg\n",
            "0036.jpg\n",
            "0037.jpg\n",
            "0038.jpg\n",
            "0039.jpg\n",
            "003.jpg\n",
            "0040.jpg\n",
            "0041.jpg\n",
            "0042.jpg\n",
            "0043.jpg\n",
            "0044.jpg\n",
            "0045.jpg\n",
            "0046.jpg\n",
            "004.jpg\n",
            "005.jpg\n",
            "006.jpg\n",
            "007.jpg\n",
            "008.jpg\n",
            "009.jpg\n",
            "5x5-grid-close-ups-smiling-260nw-216231307.jpg\n",
            "active-adults-playing-beachvolley-happy-throwing-ball-sandy-summer-beach-near-blue-sea-87274071.jpg\n",
            "addicted-woman-sharing-her-rehabilitation-260nw-1656777319.jpg\n",
            "adult-group-celebrating-friend-winning-260nw-1044996598.jpg\n",
            "adult-group-people-occupation-smiling-260nw-261295082.jpg\n",
            "adult-group-people-occupation-smiling-260nw-272118380.jpg\n",
            "adults-drinking-beer-indoor-cheerful-laughing-young-home-selective-focus-guy-51366737.jpg\n",
            "adults-drinking-beer-indoor-happy-laughing-selective-focus-53655914.jpg\n",
            "adults-drinking-beer-indoor-happy-smiling-young-home-focus-man-70527442.jpg\n",
            "adults-drinking-beer-indoor-happy-young-laughing-home-57481548.jpg\n",
            "adults-eating-out-restaurant-happy-fashionable-young-beautiful-waitress-serving-them-55358035.jpg\n",
            "adults-having-dinner-restaurant-portrait-positive-family-focus-adult-man-59272057.jpg\n",
            "adults-having-dinner-restaurant-portrait-positive-family-focus-adult-man-79969993.jpg\n",
            "adults-having-dinner-restaurant-portrait-smiling-family-focus-blonde-girl-68859710.jpg\n",
            "adults-having-dinner-restaurant-portrait-smiling-family-focus-blonde-girl-85624597.jpg\n",
            "adults-having-dinner-restaurant-portrait-smiling-young-focus-young-man-63962731.jpg\n",
            "adults-having-dinner-restaurant-positive-family-76652249.jpg\n",
            "adults-having-dinner-restaurant-smiling-young-family-59272058.jpg\n",
            "adults-having-dinner-together-group-indoors-laughing-69173435.jpg\n",
            "adults-having-dinner-waiter-happy-people-respectful-53307996.jpg\n",
            "adults-having-dinner-waiter-portrait-happy-respectful-55357942.jpg\n",
            "adults-having-dinner-waiter-portrait-smiling-people-respectful-52620087.jpg\n",
            "adults-kids-having-fun-garden-59872092.jpg\n",
            "adults-kids-having-fun-garden-59872094.jpg\n",
            "adults-playing-charades-happy-adult-men-women-indoor-laughing-51366801.jpg\n",
            "adults-playing-charades-happy-indoor-laughing-51601725.jpg\n",
            "adults-playing-charades-happy-russian-indoor-laughing-61767124.jpg\n",
            "adults-playing-charades-happy-russian-indoor-laughing-79969876.jpg\n",
            "adults-relaxing-grill-party-happy-group-friends-sunny-day-53888982.jpg\n",
            "adults-running-sandy-beach-happy-summer-day-74453961.jpg\n",
            "adults-throwing-ball-over-net-laughing-active-65507021.jpg\n",
            "adults-throwing-ball-over-net-laughing-active-european-70192088.jpg\n",
            "adults-throwing-ball-over-net-laughing-active-european-79913943.jpg\n",
            "adults-throwing-ball-over-net-laughing-active-russian-87274114.jpg\n",
            "adult-students-sitting-on-campus-260nw-14926003.jpg\n",
            "adult-students-standing-library-260nw-14923006.jpg\n",
            "adult-students-studying-together-260nw-15258847.jpg\n",
            "adults-wine-billiard-table-group-smiling-different-age-friends-spending-time-near-88584048.jpg\n",
            "ambitious-business-team-showing-success-260nw-1258289788.jpg\n",
            "asian-business-team-image-lens-260nw-710005114.jpg\n",
            "attractive-group-adults-sitting-together-260nw-123749425.jpg\n",
            "audience-applaud-clapping-happiness-appreciation-260nw-314333783.jpg\n",
            "audience-applaud-clapping-happiness-appreciation-260nw-390442510.jpg\n",
            "backside-view-spectators-standing-gathering-back-auditorium-full-people-selective-focus-175613956.jpg\n",
            "backside-view-spectators-standing-gathering-back-auditorium-full-people-selective-focus-175614015.jpg\n",
            "backside-view-spectators-standing-gathering-back-auditorium-full-people-selective-focus-176807803.jpg\n",
            "backside-view-spectators-standing-gathering-back-auditorium-full-people-selective-focus-190045862.jpg\n",
            "beach-summer-party-togetherness-selfie-260nw-293878145.jpg\n",
            "beautiful-business-team-looking-camera-260nw-593494568.jpg\n",
            "beautiful-confident-asian-woman-standing-260nw-1292496331.jpg\n",
            "best-team-ever-full-length-260nw-272979137.jpg\n",
            "big-group-adults-attending-yoga-260nw-630816977.jpg\n",
            "big-group-friends-hugging-each-260nw-1658144407.jpg\n",
            "birthday-cake-being-brought-out-260nw-789065428.jpg\n",
            "break-casual-coffee-shop-coworker-260nw-559176679.jpg\n",
            "business-coach-rear-view-man-260nw-439214011.jpg\n",
            "business-group-people-260nw-615731681.jpg\n",
            "businessman-presentation-conference-checking-mobile-260nw-1708886311.jpg\n",
            "business-meeting-african-american-businessman-260nw-1674507352.jpg\n",
            "business-meeting-top-view-buiness-260nw-1043470171.jpg\n",
            "businessmen-superhero-team-confidence-concept-260nw-226608313.jpg\n",
            "business-people-corporate-meeting-board-260nw-255163039.jpg\n",
            "business-people-gathering-meeting-area-64981492.jpg\n",
            "business-people-gathering-meeting-area-64981588.jpg\n",
            "business-people-good-teamwork-office-260nw-1311833582.jpg\n",
            "business-people-having-discussion-260nw-750661480.jpg\n",
            "business-people-meeting-seminar-sharing-260nw-234372361.jpg\n",
            "business-team-coffee-break-relax-260nw-331877972.jpg\n",
            "business-team-seminar-corporate-strategy-260nw-390953581.jpg\n",
            "casual-group-coworker-friends-smiling-260nw-196654823.jpg\n",
            "casual-group-people-hands-together-260nw-94817341.jpg\n",
            "casual-group-people-looking-happy-260nw-58325032.jpg\n",
            "casual-group-people-smiling-isolated-260nw-71753362.jpg\n",
            "casual-senior-adults-sitting-together-casual-senior-adults-sitting-together-108686593.jpg\n",
            "caucasian-family-group-people-260nw-69233725.jpg\n",
            "caucasian-family-group-people-260nw-70735300.jpg\n",
            "chatting-adults-cheerful-waitress-portrait-restaurant-88084573.jpg\n",
            "cheerful-diverse-people-huddling-park-260nw-1355507276.jpg\n",
            "cheerful-friends-sitting-courtyard-enjoying-260nw-1426545593.jpg\n",
            "cheerful-group-four-senior-people-260nw-1450750298.jpg\n",
            "cheerful-pretty-multiracial-young-ladies-260nw-1568859361.jpg\n",
            "cheers-best-friends-group-cheerful-260nw-492006775.jpg\n",
            "chef-taking-care-adults-cafe-table-handsome-93057743.jpg\n",
            "christian-friends-group-reading-study-260nw-1083145415.jpg\n",
            "close-handsome-smiling-worker-white-260nw-417478978.jpg\n",
            "close-senior-christian-woman-hands-260nw-1272953512.jpg\n",
            "closeup-diverse-senior-adults-sitting-pool-enjoying-summer-together-closeup-diverse-senior-adults-sitting-pool-101679478.jpg\n",
            "closeup-diverse-senior-adults-sitting-pool-enjoying-su-summer-together-95183008.jpg\n",
            "closeup-group-portrait-happy-young-260nw-195969071.jpg\n",
            "closeup-on-hands-holding-tray-260nw-552992860.jpg\n",
            "closeup-portrait-attractive-young-friends-260nw-283593941.jpg\n",
            "collage-ethnically-diverse-group-businessmen-260nw-694317493.jpg\n",
            "collage-faces-surprised-people-on-260nw-1044063823.jpg\n",
            "collage-portraits-ethnically-diverse-mixed-260nw-725290651.jpg\n",
            "collage-portraits-ethnically-diverse-mixed-260nw-725291137.jpg\n",
            "colleagues-working-together-on-project-260nw-489615157.jpg\n",
            "collection-avatar-people-young-senior-260nw-1440636038.jpg\n",
            "college-students-teamwork-stacking-hand-260nw-493058911.jpg\n",
            "composition-five-different-people-wear-260nw-771941935.jpg\n",
            "composition-smiling-people-260nw-85451623.jpg\n",
            "composition-smiling-people-260nw-91813130.jpg\n",
            "concerned-men-comforting-another-rehab-260nw-290401286.jpg\n",
            "confetti-fun-group-happy-young-260nw-1180151149.jpg\n",
            "confident-mature-businessman-giving-presentation-260nw-770245414.jpg\n",
            "cool-group-people-woman-man-260nw-1076140025.jpg\n",
            "cool-group-people-woman-man-260nw-1104800816.jpg\n",
            "corporate-people-having-business-agreement-42130356.jpg\n",
            "corporate-seminar-conference-team-collaboration-260nw-367745690.jpg\n",
            "couple-gathering-chestnuts-young-men-his-girlfriend-37036592.jpg\n",
            "couple-happy-businesswomen-looking-phone-260nw-703649002.jpg\n",
            "creative-business-team-working-hard-260nw-341413613.jpg\n",
            "creative-team-applauding-coach-260nw-1045933894.jpg\n",
            "different-nation-girls-diversuty-skin-260nw-624990503.jpg\n",
            "digital-connection-technology-networking-team-260nw-367752371.jpg\n",
            "diverse-beach-summer-friends-fun-260nw-397470424.jpg\n"
          ]
        }
      ],
      "source": [
        "!ls /content/drive/My\\ Drive/Kaggle/data/validate/Adults"
      ]
    },
    {
      "cell_type": "code",
      "execution_count": null,
      "metadata": {
        "colab": {
          "base_uri": "https://localhost:8080/"
        },
        "id": "ykoN8pG17-1m",
        "outputId": "4072ccfb-9220-4400-bebd-0988aab2d8ad"
      },
      "outputs": [
        {
          "name": "stdout",
          "output_type": "stream",
          "text": [
            "Requirement already satisfied: tensorflow in /usr/local/lib/python3.11/dist-packages (2.18.0)\n",
            "Requirement already satisfied: numpy in /usr/local/lib/python3.11/dist-packages (2.0.2)\n",
            "Requirement already satisfied: scikit-learn in /usr/local/lib/python3.11/dist-packages (1.6.1)\n",
            "Requirement already satisfied: matplotlib in /usr/local/lib/python3.11/dist-packages (3.10.0)\n",
            "Requirement already satisfied: absl-py>=1.0.0 in /usr/local/lib/python3.11/dist-packages (from tensorflow) (1.4.0)\n",
            "Requirement already satisfied: astunparse>=1.6.0 in /usr/local/lib/python3.11/dist-packages (from tensorflow) (1.6.3)\n",
            "Requirement already satisfied: flatbuffers>=24.3.25 in /usr/local/lib/python3.11/dist-packages (from tensorflow) (25.2.10)\n",
            "Requirement already satisfied: gast!=0.5.0,!=0.5.1,!=0.5.2,>=0.2.1 in /usr/local/lib/python3.11/dist-packages (from tensorflow) (0.6.0)\n",
            "Requirement already satisfied: google-pasta>=0.1.1 in /usr/local/lib/python3.11/dist-packages (from tensorflow) (0.2.0)\n",
            "Requirement already satisfied: libclang>=13.0.0 in /usr/local/lib/python3.11/dist-packages (from tensorflow) (18.1.1)\n",
            "Requirement already satisfied: opt-einsum>=2.3.2 in /usr/local/lib/python3.11/dist-packages (from tensorflow) (3.4.0)\n",
            "Requirement already satisfied: packaging in /usr/local/lib/python3.11/dist-packages (from tensorflow) (24.2)\n",
            "Requirement already satisfied: protobuf!=4.21.0,!=4.21.1,!=4.21.2,!=4.21.3,!=4.21.4,!=4.21.5,<6.0.0dev,>=3.20.3 in /usr/local/lib/python3.11/dist-packages (from tensorflow) (5.29.4)\n",
            "Requirement already satisfied: requests<3,>=2.21.0 in /usr/local/lib/python3.11/dist-packages (from tensorflow) (2.32.3)\n",
            "Requirement already satisfied: setuptools in /usr/local/lib/python3.11/dist-packages (from tensorflow) (75.2.0)\n",
            "Requirement already satisfied: six>=1.12.0 in /usr/local/lib/python3.11/dist-packages (from tensorflow) (1.17.0)\n",
            "Requirement already satisfied: termcolor>=1.1.0 in /usr/local/lib/python3.11/dist-packages (from tensorflow) (3.1.0)\n",
            "Requirement already satisfied: typing-extensions>=3.6.6 in /usr/local/lib/python3.11/dist-packages (from tensorflow) (4.13.2)\n",
            "Requirement already satisfied: wrapt>=1.11.0 in /usr/local/lib/python3.11/dist-packages (from tensorflow) (1.17.2)\n",
            "Requirement already satisfied: grpcio<2.0,>=1.24.3 in /usr/local/lib/python3.11/dist-packages (from tensorflow) (1.71.0)\n",
            "Requirement already satisfied: tensorboard<2.19,>=2.18 in /usr/local/lib/python3.11/dist-packages (from tensorflow) (2.18.0)\n",
            "Requirement already satisfied: keras>=3.5.0 in /usr/local/lib/python3.11/dist-packages (from tensorflow) (3.8.0)\n",
            "Requirement already satisfied: h5py>=3.11.0 in /usr/local/lib/python3.11/dist-packages (from tensorflow) (3.13.0)\n",
            "Requirement already satisfied: ml-dtypes<0.5.0,>=0.4.0 in /usr/local/lib/python3.11/dist-packages (from tensorflow) (0.4.1)\n",
            "Requirement already satisfied: tensorflow-io-gcs-filesystem>=0.23.1 in /usr/local/lib/python3.11/dist-packages (from tensorflow) (0.37.1)\n",
            "Requirement already satisfied: scipy>=1.6.0 in /usr/local/lib/python3.11/dist-packages (from scikit-learn) (1.15.3)\n",
            "Requirement already satisfied: joblib>=1.2.0 in /usr/local/lib/python3.11/dist-packages (from scikit-learn) (1.5.0)\n",
            "Requirement already satisfied: threadpoolctl>=3.1.0 in /usr/local/lib/python3.11/dist-packages (from scikit-learn) (3.6.0)\n",
            "Requirement already satisfied: contourpy>=1.0.1 in /usr/local/lib/python3.11/dist-packages (from matplotlib) (1.3.2)\n",
            "Requirement already satisfied: cycler>=0.10 in /usr/local/lib/python3.11/dist-packages (from matplotlib) (0.12.1)\n",
            "Requirement already satisfied: fonttools>=4.22.0 in /usr/local/lib/python3.11/dist-packages (from matplotlib) (4.58.0)\n",
            "Requirement already satisfied: kiwisolver>=1.3.1 in /usr/local/lib/python3.11/dist-packages (from matplotlib) (1.4.8)\n",
            "Requirement already satisfied: pillow>=8 in /usr/local/lib/python3.11/dist-packages (from matplotlib) (11.2.1)\n",
            "Requirement already satisfied: pyparsing>=2.3.1 in /usr/local/lib/python3.11/dist-packages (from matplotlib) (3.2.3)\n",
            "Requirement already satisfied: python-dateutil>=2.7 in /usr/local/lib/python3.11/dist-packages (from matplotlib) (2.9.0.post0)\n",
            "Requirement already satisfied: wheel<1.0,>=0.23.0 in /usr/local/lib/python3.11/dist-packages (from astunparse>=1.6.0->tensorflow) (0.45.1)\n",
            "Requirement already satisfied: rich in /usr/local/lib/python3.11/dist-packages (from keras>=3.5.0->tensorflow) (13.9.4)\n",
            "Requirement already satisfied: namex in /usr/local/lib/python3.11/dist-packages (from keras>=3.5.0->tensorflow) (0.0.9)\n",
            "Requirement already satisfied: optree in /usr/local/lib/python3.11/dist-packages (from keras>=3.5.0->tensorflow) (0.15.0)\n",
            "Requirement already satisfied: charset-normalizer<4,>=2 in /usr/local/lib/python3.11/dist-packages (from requests<3,>=2.21.0->tensorflow) (3.4.2)\n",
            "Requirement already satisfied: idna<4,>=2.5 in /usr/local/lib/python3.11/dist-packages (from requests<3,>=2.21.0->tensorflow) (3.10)\n",
            "Requirement already satisfied: urllib3<3,>=1.21.1 in /usr/local/lib/python3.11/dist-packages (from requests<3,>=2.21.0->tensorflow) (2.4.0)\n",
            "Requirement already satisfied: certifi>=2017.4.17 in /usr/local/lib/python3.11/dist-packages (from requests<3,>=2.21.0->tensorflow) (2025.4.26)\n",
            "Requirement already satisfied: markdown>=2.6.8 in /usr/local/lib/python3.11/dist-packages (from tensorboard<2.19,>=2.18->tensorflow) (3.8)\n",
            "Requirement already satisfied: tensorboard-data-server<0.8.0,>=0.7.0 in /usr/local/lib/python3.11/dist-packages (from tensorboard<2.19,>=2.18->tensorflow) (0.7.2)\n",
            "Requirement already satisfied: werkzeug>=1.0.1 in /usr/local/lib/python3.11/dist-packages (from tensorboard<2.19,>=2.18->tensorflow) (3.1.3)\n",
            "Requirement already satisfied: MarkupSafe>=2.1.1 in /usr/local/lib/python3.11/dist-packages (from werkzeug>=1.0.1->tensorboard<2.19,>=2.18->tensorflow) (3.0.2)\n",
            "Requirement already satisfied: markdown-it-py>=2.2.0 in /usr/local/lib/python3.11/dist-packages (from rich->keras>=3.5.0->tensorflow) (3.0.0)\n",
            "Requirement already satisfied: pygments<3.0.0,>=2.13.0 in /usr/local/lib/python3.11/dist-packages (from rich->keras>=3.5.0->tensorflow) (2.19.1)\n",
            "Requirement already satisfied: mdurl~=0.1 in /usr/local/lib/python3.11/dist-packages (from markdown-it-py>=2.2.0->rich->keras>=3.5.0->tensorflow) (0.1.2)\n"
          ]
        }
      ],
      "source": [
        "!pip install tensorflow numpy scikit-learn matplotlib"
      ]
    },
    {
      "cell_type": "code",
      "execution_count": null,
      "metadata": {
        "id": "pY0Nob2H8URP"
      },
      "outputs": [],
      "source": [
        "import os\n",
        "import numpy as np\n",
        "from sklearn.preprocessing import LabelEncoder\n",
        "from collections import Counter\n",
        "import tensorflow as tf\n",
        "from tensorflow.keras.preprocessing.image import ImageDataGenerator\n",
        "from tensorflow.keras.applications.resnet_v2 import ResNet50V2, preprocess_input\n",
        "from tensorflow.keras.layers import Dense, Dropout, GlobalAveragePooling2D\n",
        "from tensorflow.keras.models import Model\n",
        "from tensorflow.keras.callbacks import EarlyStopping, ReduceLROnPlateau\n",
        "from tensorflow.keras import regularizers\n",
        "import matplotlib.pyplot as plt"
      ]
    },
    {
      "cell_type": "code",
      "execution_count": null,
      "metadata": {
        "id": "VhonG7km8dDT"
      },
      "outputs": [],
      "source": [
        "# Ensure reproducibility\n",
        "tf.random.set_seed(42)\n",
        "np.random.seed(42)\n",
        "\n",
        "# Step 1: Set up directory paths (data already unzipped)\n",
        "data_dir = \"/content/drive/My Drive/Kaggle/data\"\n",
        "train_path = os.path.join(data_dir, \"train\")\n",
        "validate_path = os.path.join(data_dir, \"validate\")\n",
        "test_path = os.path.join(data_dir, \"test_out\")\n",
        "\n",
        "# Verify directories exist\n",
        "if not all(os.path.exists(p) for p in [train_path, validate_path, test_path]):\n",
        "    raise FileNotFoundError(\"One or more data directories not found. Check train, validate, and test_out in /content/drive/My Drive/Kaggle/data\")"
      ]
    },
    {
      "cell_type": "code",
      "execution_count": null,
      "metadata": {
        "colab": {
          "base_uri": "https://localhost:8080/"
        },
        "id": "Ypo_VCIR8jaB",
        "outputId": "2fa6483e-e9f5-4a06-d01a-5ff382b05e17"
      },
      "outputs": [
        {
          "name": "stdout",
          "output_type": "stream",
          "text": [
            "Validation set assumed to be already created in validate/Adults, validate/Teenagers, validate/Toddlers\n",
            "Label Encoder classes: ['Adults' 'Teenagers' 'Toddler']\n"
          ]
        }
      ],
      "source": [
        "# Step 2: Skip validation set creation (already done by user)\n",
        "print(\"Validation set assumed to be already created in validate/Adults, validate/Teenagers, validate/Toddlers\")\n",
        "\n",
        "# Step 3: Label Encoding\n",
        "lst = ['Adults', 'Teenagers', 'Toddler']\n",
        "LE = LabelEncoder()\n",
        "LE.fit(lst)\n",
        "print(\"Label Encoder classes:\", LE.classes_)\n",
        "\n"
      ]
    },
    {
      "cell_type": "code",
      "execution_count": null,
      "metadata": {
        "colab": {
          "base_uri": "https://localhost:8080/"
        },
        "id": "g6e3hxE48qq8",
        "outputId": "8fb9ae36-593e-40e2-9acf-a71b492a75a5"
      },
      "outputs": [
        {
          "name": "stdout",
          "output_type": "stream",
          "text": [
            "Found 2813 images belonging to 3 classes.\n",
            "Found 560 images belonging to 3 classes.\n",
            "Found 324 images belonging to 1 classes.\n",
            "Steps per epoch: 176, Validation steps: 35\n"
          ]
        }
      ],
      "source": [
        "# Step 5: Initialize ImageDataGenerators with enhanced augmentation\n",
        "data_gen_train = ImageDataGenerator(\n",
        "    rotation_range=30,\n",
        "    width_shift_range=0.2,\n",
        "    height_shift_range=0.2,\n",
        "    shear_range=0.2,\n",
        "    zoom_range=0.2,\n",
        "    horizontal_flip=True,\n",
        "    brightness_range=[0.8, 1.2],\n",
        "    fill_mode='nearest',\n",
        "    preprocessing_function=preprocess_input\n",
        ")\n",
        "data_gen_valid = ImageDataGenerator(preprocessing_function=preprocess_input)\n",
        "data_gen_test = ImageDataGenerator(preprocessing_function=preprocess_input)\n",
        "\n",
        "# Create generators\n",
        "batch_size = 16\n",
        "train_generator = data_gen_train.flow_from_directory(\n",
        "    train_path,\n",
        "    target_size=(224, 224),\n",
        "    class_mode='categorical',\n",
        "    batch_size=batch_size,\n",
        "    seed=42\n",
        ")\n",
        "validation_generator = data_gen_valid.flow_from_directory(\n",
        "    validate_path,\n",
        "    target_size=(224, 224),\n",
        "    class_mode='categorical',\n",
        "    batch_size=batch_size,\n",
        "    seed=42\n",
        ")\n",
        "test_generator = data_gen_test.flow_from_directory(\n",
        "    test_path,\n",
        "    target_size=(224, 224),\n",
        "    class_mode=None,\n",
        "    shuffle=False,\n",
        "    batch_size=1  # Predict one image at a time\n",
        ")\n",
        "\n",
        "# Calculate steps per epoch\n",
        "steps_per_epoch = train_generator.samples // batch_size\n",
        "if train_generator.samples % batch_size:\n",
        "    steps_per_epoch += 1\n",
        "validation_steps = validation_generator.samples // batch_size\n",
        "if validation_generator.samples % batch_size:\n",
        "    validation_steps += 1\n",
        "\n",
        "print(f\"Steps per epoch: {steps_per_epoch}, Validation steps: {validation_steps}\")"
      ]
    },
    {
      "cell_type": "code",
      "execution_count": null,
      "metadata": {
        "colab": {
          "base_uri": "https://localhost:8080/"
        },
        "id": "p1N-z7S781rc",
        "outputId": "b27f8aba-8560-4d49-aaa9-d55593354d4b"
      },
      "outputs": [
        {
          "name": "stdout",
          "output_type": "stream",
          "text": [
            "Downloading data from https://storage.googleapis.com/tensorflow/keras-applications/resnet/resnet50v2_weights_tf_dim_ordering_tf_kernels_notop.h5\n",
            "\u001b[1m94668760/94668760\u001b[0m \u001b[32m━━━━━━━━━━━━━━━━━━━━\u001b[0m\u001b[37m\u001b[0m \u001b[1m3s\u001b[0m 0us/step\n"
          ]
        }
      ],
      "source": [
        "\n",
        "# Step 6: Initialize ResNet50V2 base model\n",
        "img_shape = (224, 224, 3)\n",
        "fine_tune_at = 170  # Fine-tune more layers\n",
        "base_model = ResNet50V2(include_top=False, weights='imagenet', input_shape=img_shape)\n",
        "base_model.trainable = True\n",
        "for layer in base_model.layers[:fine_tune_at]:\n",
        "    layer.trainable = False\n",
        "\n",
        "# Step 7: Add custom layers with increased capacity and regularization\n",
        "global_average_layer = GlobalAveragePooling2D()(base_model.output)\n",
        "lay_1 = Dense(units=128, activation='relu', kernel_regularizer=regularizers.l2(0.01))(global_average_layer)\n",
        "d1 = Dropout(0.3)(lay_1)\n",
        "lay_2 = Dense(units=64, activation='relu', kernel_regularizer=regularizers.l2(0.01))(d1)\n",
        "d2 = Dropout(0.3)(lay_2)\n",
        "prediction_layer = Dense(units=3, activation='softmax')(d2)\n",
        "model = Model(inputs=base_model.input, outputs=prediction_layer)\n",
        "\n",
        "# Compile model\n",
        "model.compile(\n",
        "    optimizer=tf.keras.optimizers.Adam(learning_rate=0.0001),\n",
        "    loss='categorical_crossentropy',\n",
        "    metrics=['accuracy']\n",
        ")"
      ]
    },
    {
      "cell_type": "code",
      "execution_count": null,
      "metadata": {
        "colab": {
          "background_save": true,
          "base_uri": "https://localhost:8080/"
        },
        "id": "oQL1z8qV8_ko",
        "outputId": "777acac6-0a48-4864-efa4-88bb81a62b34"
      },
      "outputs": [
        {
          "name": "stderr",
          "output_type": "stream",
          "text": [
            "/usr/local/lib/python3.11/dist-packages/keras/src/trainers/data_adapters/py_dataset_adapter.py:121: UserWarning: Your `PyDataset` class should call `super().__init__(**kwargs)` in its constructor. `**kwargs` can include `workers`, `use_multiprocessing`, `max_queue_size`. Do not pass these arguments to `fit()`, as they will be ignored.\n",
            "  self._warn_if_super_not_called()\n"
          ]
        },
        {
          "name": "stdout",
          "output_type": "stream",
          "text": [
            "Epoch 1/20\n",
            "\u001b[1m176/176\u001b[0m \u001b[32m━━━━━━━━━━━━━━━━━━━━\u001b[0m\u001b[37m\u001b[0m \u001b[1m1373s\u001b[0m 8s/step - accuracy: 0.4235 - loss: 4.2034 - val_accuracy: 0.7607 - val_loss: 3.2786 - learning_rate: 1.0000e-04\n",
            "Epoch 2/20\n",
            "\u001b[1m176/176\u001b[0m \u001b[32m━━━━━━━━━━━━━━━━━━━━\u001b[0m\u001b[37m\u001b[0m \u001b[1m839s\u001b[0m 5s/step - accuracy: 0.5823 - loss: 3.3891 - val_accuracy: 0.7839 - val_loss: 2.7834 - learning_rate: 1.0000e-04\n",
            "Epoch 3/20\n",
            "\u001b[1m176/176\u001b[0m \u001b[32m━━━━━━━━━━━━━━━━━━━━\u001b[0m\u001b[37m\u001b[0m \u001b[1m806s\u001b[0m 5s/step - accuracy: 0.6738 - loss: 2.9168 - val_accuracy: 0.8339 - val_loss: 2.3986 - learning_rate: 1.0000e-04\n",
            "Epoch 4/20\n",
            "\u001b[1m146/176\u001b[0m \u001b[32m━━━━━━━━━━━━━━━━\u001b[0m\u001b[37m━━━━\u001b[0m \u001b[1m1:52\u001b[0m 4s/step - accuracy: 0.7075 - loss: 2.5755"
          ]
        }
      ],
      "source": [
        "\n",
        "# Step 8: Train model with early stopping and learning rate reduction\n",
        "early_stopping = EarlyStopping(\n",
        "    monitor='val_loss',\n",
        "    patience=5,  # Increased patience\n",
        "    restore_best_weights=True\n",
        ")\n",
        "lr_scheduler = ReduceLROnPlateau(\n",
        "    monitor='val_loss',\n",
        "    factor=0.5,\n",
        "    patience=3,\n",
        "    min_lr=1e-6,\n",
        "    verbose=1\n",
        ")\n",
        "\n",
        "history = model.fit(\n",
        "    train_generator,\n",
        "    epochs=20,\n",
        "    steps_per_epoch=steps_per_epoch,\n",
        "    validation_data=validation_generator,\n",
        "    validation_steps=validation_steps,\n",
        "    callbacks=[early_stopping, lr_scheduler]\n",
        ")\n"
      ]
    },
    {
      "cell_type": "code",
      "execution_count": null,
      "metadata": {
        "id": "G7r5s5EfDPDH"
      },
      "outputs": [],
      "source": [
        "\n",
        "# Step 9: Plot training history\n",
        "plt.figure(figsize=(12, 4))\n",
        "plt.subplot(1, 2, 1)\n",
        "plt.plot(history.history['accuracy'], label='Train Accuracy')\n",
        "plt.plot(history.history['val_accuracy'], label='Validation Accuracy')\n",
        "plt.title('Model Accuracy')\n",
        "plt.xlabel('Epoch')\n",
        "plt.ylabel('Accuracy')\n",
        "plt.legend()\n",
        "\n",
        "plt.subplot(1, 2, 2)\n",
        "plt.plot(history.history['loss'], label='Train Loss')\n",
        "plt.plot(history.history['val_loss'], label='Validation Loss')\n",
        "plt.title('Model Loss')\n",
        "plt.xlabel('Epoch')\n",
        "plt.ylabel('Loss')\n",
        "plt.legend()\n",
        "plt.tight_layout()\n",
        "plt.savefig('training_history.png')\n",
        "plt.show()"
      ]
    },
    {
      "cell_type": "code",
      "execution_count": null,
      "metadata": {
        "id": "p7wXB5puDWa1"
      },
      "outputs": [],
      "source": [
        "# Step 10: Make predictions on test set\n",
        "predictions = model.predict(test_generator)\n",
        "predicted_classes = np.argmax(predictions, axis=1)\n",
        "filenames = [os.path.basename(f) for f in test_generator.filenames]\n",
        "\n",
        "# Map indices to category names using LabelEncoder\n",
        "predicted_categories = LE.inverse_transform(predicted_classes)\n",
        "\n",
        "# Store predictions in a dictionary\n",
        "match = {filename: category for filename, category in zip(filenames, predicted_categories)}\n",
        "\n",
        "# Print predictions\n",
        "print(\"\\nTest Predictions:\")\n",
        "for filename, category in match.items():\n",
        "    print(f\"{filename}: {category}\")\n",
        "\n",
        "# Return predictions for further use if needed\n",
        "# match is a dictionary with filename as key and predicted category as value"
      ]
    }
  ],
  "metadata": {
    "accelerator": "GPU",
    "colab": {
      "gpuType": "T4",
      "provenance": []
    },
    "kernelspec": {
      "display_name": "Python 3",
      "name": "python3"
    },
    "language_info": {
      "name": "python"
    }
  },
  "nbformat": 4,
  "nbformat_minor": 0
}